{
 "cells": [
  {
   "cell_type": "code",
   "execution_count": 57,
   "id": "f4f85829",
   "metadata": {},
   "outputs": [
    {
     "name": "stdout",
     "output_type": "stream",
     "text": [
      "{'flags': {}, 'shapes': [{'label': 'Betula', 'line_color': None, 'fill_color': None, 'points': [[467.3350524902344, 706.6790771484375], [736.7303466796875, 938.0879974365234]], 'shape_type': 'rectangle', 'flags': {}}, {'label': 'Wildgras', 'line_color': None, 'fill_color': None, 'points': [[2332.712860107422, 4.113821983337402], [2555.6260681152344, 202.25456714630127]], 'shape_type': 'rectangle', 'flags': {}}, {'label': 'Betula', 'line_color': None, 'fill_color': None, 'points': [[2352.4887084960938, 177.31667518615723], [2549.207763671875, 406.54263496398926]], 'shape_type': 'rectangle', 'flags': {}}, {'label': 'Betula', 'line_color': None, 'fill_color': None, 'points': [[1288.9389038085938, 1494.1793060302734], [1514.6627807617188, 1728.3968353271484]], 'shape_type': 'rectangle', 'flags': {}}, {'label': 'Nonpollen', 'line_color': None, 'fill_color': None, 'points': [[2371.4186096191406, 1132.6845932006836], [2557.797088623047, 1326.7372512817383]], 'shape_type': 'rectangle', 'flags': {}}], 'lineColor': [0, 255, 0, 128], 'fillColor': [255, 0, 0, 128], 'imagePath': 'Betula nana TÃ¼te 1_S0000(TR1)_Z0000_C00_M0002.jpg', 'imageData': None}\n"
     ]
    }
   ],
   "source": [
    "import pandas as pd\n",
    "import os\n",
    "import json\n",
    "from PIL import Image\n",
    "\n",
    "path_to_json = 'coordinates/'\n",
    "json_files = [pos_json for pos_json in os.listdir(path_to_json) if pos_json.endswith('.json')]\n",
    "\n",
    "\n",
    "f = open(\"coordinates/Betula nana Tüte 1_S0000(TR1)_Z0000_C00_M0002.json\")\n",
    "json_text = json.load(f)\n",
    "\n",
    "print(json_text)\n",
    "\n",
    "\n",
    "df2 = df.iloc[2]\n",
    "df2[3]\n",
    "\n",
    "\n",
    "x1 = df2[3][0][0]\n",
    "y1 = df2[3][0][1]\n",
    "x2 = df2[3][1][0]\n",
    "y2 = df2[3][1][1]\n",
    "img = Image.open(df2[0])\n",
    "img = img.crop((x1, y1, x2, y2))\n",
    "#img.save('Betula/' + df2[0])\n",
    "img.show()\n",
    "#montreal_json = pd.DataFrame.from_dict(json_text)"
   ]
  },
  {
   "cell_type": "code",
   "execution_count": 23,
   "id": "7a8d3b8f",
   "metadata": {},
   "outputs": [
    {
     "name": "stderr",
     "output_type": "stream",
     "text": [
      "D:\\ProgramData\\Miniconda3\\envs\\py3k\\lib\\site-packages\\numpy\\core\\fromnumeric.py:3199: VisibleDeprecationWarning: Creating an ndarray from ragged nested sequences (which is a list-or-tuple of lists-or-tuples-or ndarrays with different lengths or shapes) is deprecated. If you meant to do this, you must specify 'dtype=object' when creating the ndarray.\n",
      "  return asarray(a).ndim\n"
     ]
    },
    {
     "name": "stdout",
     "output_type": "stream",
     "text": [
      "                                              imagePath objectnr      label  \\\n",
      "2     Betula nana TÃ¼te 1_S0000(TR1)_Z0000_C00_M0002...        0     Betula   \n",
      "3     Betula nana TÃ¼te 1_S0000(TR1)_Z0000_C00_M0002...        1   Wildgras   \n",
      "4     Betula nana TÃ¼te 1_S0000(TR1)_Z0000_C00_M0004...        0    Corylus   \n",
      "5     Betula nana TÃ¼te 1_S0000(TR1)_Z0000_C00_M0005...        0  Nonpollen   \n",
      "6     Betula nana TÃ¼te 1_S0000(TR1)_Z0000_C00_M0006...        0     Betula   \n",
      "...                                                 ...      ...        ...   \n",
      "1800  Betula nana TÃ¼te 1_S0000(TR1)_Z0005_C00_M0297...        0  Nonpollen   \n",
      "1801  Betula nana TÃ¼te 1_S0000(TR1)_Z0005_C00_M0298...        0      Alnus   \n",
      "1802  Betula nana TÃ¼te 1_S0000(TR1)_Z0005_C00_M0299...        0  Nonpollen   \n",
      "1803  Betula nana TÃ¼te 1_S0000(TR1)_Z0005_C00_M0299...        1  Nonpollen   \n",
      "1804  Betula nana TÃ¼te 1_S0000(TR1)_Z0005_C00_M0299...        2  Nonpollen   \n",
      "\n",
      "                                                 points  \n",
      "2     [[467.3350524902344, 706.6790771484375], [736....  \n",
      "3     [[2332.712860107422, 4.113821983337402], [2555...  \n",
      "4     [[848.1449890136719, 295.73269844055176], [112...  \n",
      "5     [[1127.6000213623047, 1155.6495666503906], [13...  \n",
      "6     [[1101.6410064697266, 1610.3837585449219], [13...  \n",
      "...                                                 ...  \n",
      "1800  [[2423.905792236328, 925.4189300537109], [2554...  \n",
      "1801  [[1960.8848571777344, 1771.882438659668], [223...  \n",
      "1802  [[837.8512573242188, 1202.5835037231445], [117...  \n",
      "1803  [[1090.7815551757812, 1326.2128829956055], [15...  \n",
      "1804  [[1587.4836730957031, 821.9665145874023], [197...  \n",
      "\n",
      "[1780 rows x 4 columns]\n"
     ]
    }
   ],
   "source": [
    "import os, json\n",
    "import pandas as pd\n",
    "\n",
    "# this finds our json files\n",
    "path_to_json = 'coordinates/'\n",
    "json_files = [pos_json for pos_json in os.listdir(path_to_json) if pos_json.endswith('.json')]\n",
    "\n",
    "# here I define my pandas Dataframe with the columns I want to get from the json\n",
    "jsons_data = pd.DataFrame(columns=['imagePath', 'objectnr', 'label', 'points'])\n",
    "\n",
    "# we need both the json and an index number so use enumerate()\n",
    "for index, js in enumerate(json_files):\n",
    "    with open(os.path.join(path_to_json, js)) as json_file:\n",
    "        json_text = json.load(json_file)\n",
    "        \n",
    "        for i, shape in enumerate(json_text['shapes']):\n",
    "            imagePath = json_text['imagePath']\n",
    "            objectnr = i\n",
    "            label = json_text['shapes'][i]['label']\n",
    "            points = json_text['shapes'][i]['points']\n",
    "            jsons_data.loc[index+i] = [imagePath, objectnr, label, points]\n",
    "            \n",
    "        # here you need to know the layout of your json and each json has to have\n",
    "        # the same structure (obviously not the structure I have here)\n",
    "        #country = json_text['features'][0]['properties']['country']\n",
    "        #city = json_text['features'][0]['properties']['name']\n",
    "        #lonlat = json_text['features'][0]['geometry']['coordinates']\n",
    "        # here I push a list of data into a pandas DataFrame at row given by 'index'\n",
    "        #jsons_data.loc[index] = [country, city, lonlat]\n",
    "\n",
    "# now that we have the pertinent json data in our DataFrame let's look at it\n",
    "print(jsons_data)"
   ]
  },
  {
   "cell_type": "code",
   "execution_count": 56,
   "id": "a9b8d98d",
   "metadata": {},
   "outputs": [
    {
     "name": "stderr",
     "output_type": "stream",
     "text": [
      "<ipython-input-56-9b762bfbb3d7>:2: SettingWithCopyWarning: \n",
      "A value is trying to be set on a copy of a slice from a DataFrame.\n",
      "Try using .loc[row_indexer,col_indexer] = value instead\n",
      "\n",
      "See the caveats in the documentation: https://pandas.pydata.org/pandas-docs/stable/user_guide/indexing.html#returning-a-view-versus-a-copy\n",
      "  df['imagePath'] = df['imagePath'].str.replace('Ã¼', 'ü')\n"
     ]
    },
    {
     "data": {
      "text/plain": [
       "'Betula nana Tüte 1_S0000(TR1)_Z0000_C00_M0007.jpg'"
      ]
     },
     "execution_count": 56,
     "metadata": {},
     "output_type": "execute_result"
    }
   ],
   "source": [
    "df = jsons_data.loc[jsons_data['label'] == 'Betula', ]\n",
    "df['imagePath'] = df['imagePath'].str.replace('Ã¼', 'ü')\n",
    "df2 = df.iloc[2]\n",
    "\n",
    "df2[0]\n"
   ]
  },
  {
   "cell_type": "code",
   "execution_count": null,
   "id": "0f189a67",
   "metadata": {},
   "outputs": [],
   "source": [
    "for index, row in df2.iterrows():\n",
    "    x1 = row['points'][3][0][0]\n",
    "    y1 = row['points'][3][0][1]\n",
    "    x2 = row['points'][3][1][0]\n",
    "    y2 = row['points'][3][1][1]\n",
    "    img = Image.open(path_to_json + row['imagePath'])\n",
    "    img = img.crop((x1, y1, x2, y2))\n",
    "    img.save('Betula/' + row['filename'])"
   ]
  }
 ],
 "metadata": {
  "kernelspec": {
   "display_name": "Python 3",
   "language": "python",
   "name": "python3"
  },
  "language_info": {
   "codemirror_mode": {
    "name": "ipython",
    "version": 3
   },
   "file_extension": ".py",
   "mimetype": "text/x-python",
   "name": "python",
   "nbconvert_exporter": "python",
   "pygments_lexer": "ipython3",
   "version": "3.9.4"
  }
 },
 "nbformat": 4,
 "nbformat_minor": 5
}
